{
 "cells": [
  {
   "cell_type": "code",
   "execution_count": null,
   "id": "66f85408-e253-4c03-8cd1-ced3c7f0fd7b",
   "metadata": {},
   "outputs": [],
   "source": [
    "import pandas as pd\n",
    "from rdkit import Chem\n",
    "from rdkit.Chem import AllChem\n",
    "import numpy as np\n",
    "from autogluon.tabular import TabularDataset, TabularPredictor\n",
    "import time\n",
    "\n",
    "start_time = time.time()\n",
    "# Function to convert SMILES to molecular fingerprint\n",
    "def smiles_to_ECFP(smiles,n_bits):\n",
    "    if smiles is not None:\n",
    "        mol = Chem.MolFromSmiles(smiles)    \n",
    "        fp = AllChem.GetMorganFingerprintAsBitVect(mol, radius=2, nBits=n_bits)\n",
    "        return np.array(fp)\n",
    "    else:\n",
    "        return np.zeros(n_bits)\n",
    "        \n",
    "# Get fingerprints of a reaction \n",
    "def get_fingerprint_features(df, components): \n",
    "    components_fp_list= [] \n",
    "    for i in components:\n",
    "        component_fp = np.array([smiles_to_ECFP(smiles,1024) for smiles in df[i]])\n",
    "        components_fp_list.append(component_fp)\n",
    "    components_fp=np.hstack(components_fp_list)\n",
    "    return components_fp\n",
    "\n",
    "# read information from excel files to generate a dataframe    \n",
    "df1 = pd.read_excel(r'I:\\acceptor_HTE.xlsx',sheet_name='substrates_train').drop(columns=['ligands','catalysts'])\n",
    "df2 = pd.read_excel(r'I:\\acceptor_HTE.xlsx',sheet_name='substrates_test').drop(columns=['ligands','catalysts'])\n",
    "\n",
    "# Encode reactions and generate training dateset and test dataset\n",
    "column_list=df1.columns.tolist()\n",
    "components=column_list[3:6]\n",
    "train_data=pd.DataFrame(get_fingerprint_features(df1, components))\n",
    "train_data['ee']=df1['ee']\n",
    "train_data['catalysts_index']=df1['catalysts_index']\n",
    "test_data=pd.DataFrame(get_fingerprint_features(df2, components))\n",
    "test_data['ee']=df2['ee']\n",
    "test_data['catalysts_index']=df2['catalysts_index']\n",
    "\n",
    "# Construction of AutoGluon model and do prediction\n",
    "predictor = TabularPredictor(label='ee').fit(train_data)\n",
    "predictor.predict(test_data.drop(columns=['ee'])).to_excel(r'I:\\acceptor_HTE_prediction.xlsx')\n",
    "test_metrics=predictor.evaluate(test_data, silent=True)\n",
    "train_metrics=predictor.evaluate(train_data, silent=True)\n",
    "end_time = time.time()\n",
    "print('The metric of training dataset:', train_metrics)\n",
    "print('The metric of test dataset:', test_metrics)\n",
    "print(f'{end_time-start_time}seconds')"
   ]
  },
  {
   "cell_type": "code",
   "execution_count": null,
   "id": "37e611ab-3ccd-4967-9fd5-a5fa0f18b2d3",
   "metadata": {},
   "outputs": [],
   "source": []
  }
 ],
 "metadata": {
  "kernelspec": {
   "display_name": "AutoGluon",
   "language": "python",
   "name": "autogluon"
  },
  "language_info": {
   "codemirror_mode": {
    "name": "ipython",
    "version": 3
   },
   "file_extension": ".py",
   "mimetype": "text/x-python",
   "name": "python",
   "nbconvert_exporter": "python",
   "pygments_lexer": "ipython3",
   "version": "3.9.19"
  }
 },
 "nbformat": 4,
 "nbformat_minor": 5
}
